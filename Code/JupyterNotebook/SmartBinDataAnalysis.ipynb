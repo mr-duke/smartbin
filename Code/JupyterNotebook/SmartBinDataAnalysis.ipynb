{
  "cells": [
    {
      "metadata": {
        "trusted": true
      },
      "cell_type": "code",
      "source": "azure_storage_account_name = \"iotinfstore\"\nazure_storage_account_key = \"VxbwD/Cjvfi+ZObPIkqZ7AT8NKG3AqF6m0jYEUiwU12xtpiotyxIRNRyKu208P1+W+DdYKZd0SzFii2SrcsgWQ==\"\ncontainer = \"smartbin\"\n\nif azure_storage_account_name is None or azure_storage_account_key is None:\n    raise Exception(\"Provide your Azure Storage account details\")",
      "execution_count": 6,
      "outputs": []
    },
    {
      "metadata": {
        "trusted": true
      },
      "cell_type": "code",
      "source": "from azure.storage.blob import BlockBlobService\n\n# Connection to blob storage\nblob_service = BlockBlobService(azure_storage_account_name, azure_storage_account_key)\n\n# Get blobs from container\nblobs = blob_service.list_blobs(container)",
      "execution_count": 7,
      "outputs": []
    },
    {
      "metadata": {
        "trusted": true
      },
      "cell_type": "code",
      "source": "import pandas as pd\nfrom io import StringIO\n\njson = \"\"\nfor i in blobs:\n    print(i.name)\n    ct = blob_service.get_blob_to_text(container_name=container, blob_name=i.name)\n\n    json += ct.content + \",\"\n\njson = \"[\" + json[:-1] + \"]\"\nprint(json)\ndataframe_blobdata =  pd.read_json(json)",
      "execution_count": 8,
      "outputs": [
        {
          "output_type": "stream",
          "text": "23d36922-ee7f-48d2-90de-2d3ee010f512\n2948c091-ce24-4631-97ad-f26c10e13d0e\n336d73bf-d659-45a2-a120-be37a437a377\n6e7b9be5-8cda-4ee0-87b7-b861a8d79f7b\n87799db9-670a-4da2-991f-660f8255053e\n8b92e5f7-d176-4ce2-b771-ba78e0c0878f\nc7bec324-2c1a-45e3-b943-892f573280d4\n[\n{\n\"weight\" : 6,\n\"distance\" :98.6,\n\"gyro_x\" :98.6,\n\"gyro_y\" :98.6,\n\"gyro_z\" :98.6,\n\"timestamp\" :\"2019-06-28T15:28:45Z\"\n}\n,\n{\n\"weight\" : 5,\n\"distance\" :98.6,\n\"gyro_x\" :98.6,\n\"gyro_y\" :98.6,\n\"gyro_z\" :98.6,\n\"timestamp\" :\"2019-06-28T15:28:43Z\"\n}\n,\n{\n\"weight\" : 8,\n\"distance\" :98.6,\n\"gyro_x\" :98.6,\n\"gyro_y\" :98.6,\n\"gyro_z\" :98.6,\n\"timestamp\" :\"2019-06-28T15:28:49Z\"\n}\n,\n{\n\"weight\" : 9,\n\"distance\" :98.6,\n\"gyro_x\" :98.6,\n\"gyro_y\" :98.6,\n\"gyro_z\" :98.6,\n\"timestamp\" :\"2019-06-28T15:28:51Z\"\n}\n,\n{\n\"weight\" : 10,\n\"distance\" :98.6,\n\"gyro_x\" :98.6,\n\"gyro_y\" :98.6,\n\"gyro_z\" :98.6,\n\"timestamp\" :\"2019-06-28T15:28:53Z\"\n}\n,\n{\n\"weight\" : 7,\n\"distance\" :98.6,\n\"gyro_x\" :98.6,\n\"gyro_y\" :98.6,\n\"gyro_z\" :98.6,\n\"timestamp\" :\"2019-06-28T15:28:47Z\"\n}\n,\n{\n\"weight\" : 4,\n\"distance\" :98.6,\n\"gyro_x\" :98.6,\n\"gyro_y\" :98.6,\n\"gyro_z\" :98.6,\n\"timestamp\" :\"2019-06-28T15:28:41Z\"\n}\n]\n",
          "name": "stdout"
        }
      ]
    },
    {
      "metadata": {
        "trusted": true
      },
      "cell_type": "code",
      "source": "# Display data in table format\ndataframe_blobdata",
      "execution_count": 9,
      "outputs": [
        {
          "output_type": "execute_result",
          "execution_count": 9,
          "data": {
            "text/html": "<div>\n<style scoped>\n    .dataframe tbody tr th:only-of-type {\n        vertical-align: middle;\n    }\n\n    .dataframe tbody tr th {\n        vertical-align: top;\n    }\n\n    .dataframe thead th {\n        text-align: right;\n    }\n</style>\n<table border=\"1\" class=\"dataframe\">\n  <thead>\n    <tr style=\"text-align: right;\">\n      <th></th>\n      <th>distance</th>\n      <th>gyro_x</th>\n      <th>gyro_y</th>\n      <th>gyro_z</th>\n      <th>timestamp</th>\n      <th>weight</th>\n    </tr>\n  </thead>\n  <tbody>\n    <tr>\n      <th>0</th>\n      <td>98.6</td>\n      <td>98.6</td>\n      <td>98.6</td>\n      <td>98.6</td>\n      <td>2019-06-28 15:28:45</td>\n      <td>6</td>\n    </tr>\n    <tr>\n      <th>1</th>\n      <td>98.6</td>\n      <td>98.6</td>\n      <td>98.6</td>\n      <td>98.6</td>\n      <td>2019-06-28 15:28:43</td>\n      <td>5</td>\n    </tr>\n    <tr>\n      <th>2</th>\n      <td>98.6</td>\n      <td>98.6</td>\n      <td>98.6</td>\n      <td>98.6</td>\n      <td>2019-06-28 15:28:49</td>\n      <td>8</td>\n    </tr>\n    <tr>\n      <th>3</th>\n      <td>98.6</td>\n      <td>98.6</td>\n      <td>98.6</td>\n      <td>98.6</td>\n      <td>2019-06-28 15:28:51</td>\n      <td>9</td>\n    </tr>\n    <tr>\n      <th>4</th>\n      <td>98.6</td>\n      <td>98.6</td>\n      <td>98.6</td>\n      <td>98.6</td>\n      <td>2019-06-28 15:28:53</td>\n      <td>10</td>\n    </tr>\n    <tr>\n      <th>5</th>\n      <td>98.6</td>\n      <td>98.6</td>\n      <td>98.6</td>\n      <td>98.6</td>\n      <td>2019-06-28 15:28:47</td>\n      <td>7</td>\n    </tr>\n    <tr>\n      <th>6</th>\n      <td>98.6</td>\n      <td>98.6</td>\n      <td>98.6</td>\n      <td>98.6</td>\n      <td>2019-06-28 15:28:41</td>\n      <td>4</td>\n    </tr>\n  </tbody>\n</table>\n</div>",
            "text/plain": "   distance  gyro_x  gyro_y  gyro_z           timestamp  weight\n0      98.6    98.6    98.6    98.6 2019-06-28 15:28:45       6\n1      98.6    98.6    98.6    98.6 2019-06-28 15:28:43       5\n2      98.6    98.6    98.6    98.6 2019-06-28 15:28:49       8\n3      98.6    98.6    98.6    98.6 2019-06-28 15:28:51       9\n4      98.6    98.6    98.6    98.6 2019-06-28 15:28:53      10\n5      98.6    98.6    98.6    98.6 2019-06-28 15:28:47       7\n6      98.6    98.6    98.6    98.6 2019-06-28 15:28:41       4"
          },
          "metadata": {}
        }
      ]
    },
    {
      "metadata": {
        "trusted": true
      },
      "cell_type": "code",
      "source": "",
      "execution_count": null,
      "outputs": []
    }
  ],
  "metadata": {
    "kernelspec": {
      "name": "python36",
      "display_name": "Python 3.6",
      "language": "python"
    },
    "language_info": {
      "mimetype": "text/x-python",
      "nbconvert_exporter": "python",
      "name": "python",
      "pygments_lexer": "ipython3",
      "version": "3.6.6",
      "file_extension": ".py",
      "codemirror_mode": {
        "version": 3,
        "name": "ipython"
      }
    }
  },
  "nbformat": 4,
  "nbformat_minor": 2
}